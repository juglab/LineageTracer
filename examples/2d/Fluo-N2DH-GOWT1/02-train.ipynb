{
 "cells": [
  {
   "cell_type": "code",
   "execution_count": 1,
   "id": "548ad10e",
   "metadata": {},
   "outputs": [],
   "source": [
    "import json, os\n",
    "from scipy.special import perm\n",
    "import numpy as np\n",
    "from LineageTracer.utils.create_dicts import create_dataset_dict, create_model_dict, create_loss_dict, create_configs\n",
    "from LineageTracer.train import begin_training"
   ]
  },
  {
   "cell_type": "markdown",
   "id": "7079ec06",
   "metadata": {},
   "source": [
    "### Specify the path to train, val crops which we would like to train the network for:"
   ]
  },
  {
   "cell_type": "markdown",
   "id": "4106ce43",
   "metadata": {},
   "source": [
    "The train-val images, masks will be accessed from the path specified by `data_dir` and `project-name`."
   ]
  },
  {
   "cell_type": "code",
   "execution_count": 2,
   "id": "fc328aa9",
   "metadata": {
    "scrolled": true
   },
   "outputs": [
    {
     "name": "stdout",
     "output_type": "stream",
     "text": [
      "Project Name chosen as : Fluo-N2DH-GOWT1. \n",
      "Train-Val images-masks crops will be accessed from : dicts\n"
     ]
    }
   ],
   "source": [
    "data_dir = 'dicts'\n",
    "project_name = 'Fluo-N2DH-GOWT1'\n",
    "\n",
    "print(\"Project Name chosen as : {}. \\nTrain-Val images-masks crops will be accessed from : {}\".format(project_name, data_dir))"
   ]
  },
  {
   "cell_type": "markdown",
   "id": "0083a1cb",
   "metadata": {},
   "source": [
    "### Obtain properties of the dataset"
   ]
  },
  {
   "cell_type": "markdown",
   "id": "85f1b760",
   "metadata": {},
   "source": [
    "\n",
    "\n",
    "Here, we read the dataset.json file prepared in the 01-data notebook previously.\n"
   ]
  },
  {
   "cell_type": "code",
   "execution_count": 3,
   "id": "1f19f291",
   "metadata": {},
   "outputs": [],
   "source": [
    "if os.path.isfile('data_properties.json'): \n",
    "    with open('data_properties.json') as json_file:\n",
    "        data = json.load(json_file)\n",
    "        object_size = int(data['min_object_size'])\n",
    "        num_tracklets = int(data['mean_num_tracklets'])\n",
    "        tracklet_length = int(data['mean_length_tracklet'])\n",
    "        std_object_size= np.maximum(data['std_object_size_x'], data['std_object_size_y'])"
   ]
  },
  {
   "cell_type": "markdown",
   "id": "e70838f6",
   "metadata": {},
   "source": [
    "### Specify training dataset-related parameters\n"
   ]
  },
  {
   "cell_type": "markdown",
   "id": "2789eaa8",
   "metadata": {},
   "source": [
    "Some hints:\n",
    "\n",
    "* The `train_size` attribute indicates the number of triplets which the network would see in one complete epoch. \n",
    "Here, the triplets would include one anchor, one positive sample taken from the same tracklet as the anchor and one negative sample. \n",
    "\n",
    "Although the `train_size` can be explicitly specified, we use a heuristic to assess a rough measure of how many triplets would exist.\n",
    "\n",
    "In the cell after this one, a `train_dataset_dict` dictionary is generated from the parameters specified here!"
   ]
  },
  {
   "cell_type": "code",
   "execution_count": 4,
   "id": "5da55e78",
   "metadata": {},
   "outputs": [],
   "source": [
    "train_size = int(perm(len(os.listdir(os.path.join(data_dir, 'train'))), 2)/num_tracklets)"
   ]
  },
  {
   "cell_type": "code",
   "execution_count": 5,
   "id": "3da76ac9",
   "metadata": {},
   "outputs": [
    {
     "name": "stdout",
     "output_type": "stream",
     "text": [
      "`train_dataset_dict` dictionary successfully created with: \n",
      " -- train images accessed from dicts/Fluo-N2DH-GOWT1/train/images, \n",
      " -- number of images per epoch equal to 31, \n",
      " -- batch size set at 1, \n"
     ]
    }
   ],
   "source": [
    "train_dataset_dict = create_dataset_dict(data_dir = data_dir, \n",
    "                                         project_name = project_name,  \n",
    "                                         size = train_size, \n",
    "                                         num_sampled_tracklets = num_tracklets,\n",
    "                                         num_fg_points = object_size,\n",
    "                                         std_object_size = std_object_size,\n",
    "                                         type = 'train')"
   ]
  },
  {
   "cell_type": "markdown",
   "id": "52d71fab",
   "metadata": {},
   "source": [
    "### Specify validation dataset-related parameters"
   ]
  },
  {
   "cell_type": "markdown",
   "id": "f58c0c39",
   "metadata": {},
   "source": [
    "Some hints:\n",
    "\n",
    "* The `val_size` attribute indicates the number of triplets which the network would see in one complete epoch. \n",
    "Here, the triplets would include one anchor, one positive sample taken from the same tracklet as the anchor and one negative sample. \n",
    "\n",
    "Although the `val_size` can be explicitly specified, we use a heuristic to assess a rough measure of how many triplets would exist.\n",
    "\n",
    "In the cell after this one, a `val_dataset_dict` dictionary is generated from the parameters specified here!"
   ]
  },
  {
   "cell_type": "code",
   "execution_count": 6,
   "id": "918cf7f2",
   "metadata": {},
   "outputs": [],
   "source": [
    "val_size = int(perm(len(os.listdir(os.path.join(data_dir, 'val'))), 2)/num_tracklets)"
   ]
  },
  {
   "cell_type": "code",
   "execution_count": 7,
   "id": "7969131d",
   "metadata": {},
   "outputs": [
    {
     "name": "stdout",
     "output_type": "stream",
     "text": [
      "`val_dataset_dict` dictionary successfully created with: \n",
      " -- val images accessed from dicts/Fluo-N2DH-GOWT1/val/images, \n",
      " -- number of images per epoch equal to 21, \n",
      " -- batch size set at 1, \n"
     ]
    }
   ],
   "source": [
    "val_dataset_dict = create_dataset_dict(data_dir = data_dir, \n",
    "                                         project_name = project_name,  \n",
    "                                         size = val_size, \n",
    "                                         num_sampled_tracklets = num_tracklets,\n",
    "                                         num_fg_points = object_size,\n",
    "                                         std_object_size = std_object_size,\n",
    "                                         type = 'val')"
   ]
  },
  {
   "cell_type": "markdown",
   "id": "60622909",
   "metadata": {},
   "source": [
    "### Specify model-related parameters"
   ]
  },
  {
   "cell_type": "markdown",
   "id": "8c37f65d",
   "metadata": {},
   "source": [
    "Some hints:\n",
    "\n",
    "* Set the `num_latent_channels` attribute equal to the dimensionality of the latent embedding. Set this to `zero`. in case you are not using latent embeddings\n",
    "\n",
    "In the cell after this one, a `model_dataset_dict` dictionary is generated from the parameters specified here!\n"
   ]
  },
  {
   "cell_type": "code",
   "execution_count": 8,
   "id": "81a67039",
   "metadata": {},
   "outputs": [],
   "source": [
    "num_offset_channels = 2\n",
    "num_intensity_channels = 1\n",
    "num_latent_channels = 0\n",
    "num_output_channels = 32"
   ]
  },
  {
   "cell_type": "markdown",
   "id": "8443cdba",
   "metadata": {},
   "source": [
    "### Create the `model_dict` dictionary"
   ]
  },
  {
   "cell_type": "code",
   "execution_count": 13,
   "id": "8b29044c",
   "metadata": {},
   "outputs": [
    {
     "name": "stdout",
     "output_type": "stream",
     "text": [
      "`model_dict` dictionary successfully created with: \n",
      " -- number of offset channels equal to 2, \n",
      " -- number of intensity channels equal to 1, \n",
      " -- number of latent channels equal to 0, \n",
      " -- number of output channels equal to 32\n"
     ]
    }
   ],
   "source": [
    "model_dict = create_model_dict(num_fg_points = object_size, \n",
    "                               num_latent_channels = num_latent_channels, \n",
    "                               num_intensity_channels =num_intensity_channels, \n",
    "                               num_output_channels=num_output_channels)\n"
   ]
  },
  {
   "cell_type": "markdown",
   "id": "56bc5c4a",
   "metadata": {},
   "source": [
    "### Create the `loss_dict` dictionary\n"
   ]
  },
  {
   "cell_type": "code",
   "execution_count": 15,
   "id": "9a2d68f3",
   "metadata": {},
   "outputs": [],
   "source": [
    "margin = 0.2"
   ]
  },
  {
   "cell_type": "code",
   "execution_count": 16,
   "id": "2e894259",
   "metadata": {},
   "outputs": [
    {
     "name": "stdout",
     "output_type": "stream",
     "text": [
      "`loss_dict` dictionary successfully created with: \n",
      " -- margin equal to 0.200\n"
     ]
    }
   ],
   "source": [
    "loss_dict = create_loss_dict(margin=margin)"
   ]
  },
  {
   "cell_type": "markdown",
   "id": "2487c8e4",
   "metadata": {},
   "source": [
    "### Create the `configs` dictionary"
   ]
  },
  {
   "cell_type": "markdown",
   "id": "7d533570",
   "metadata": {},
   "source": [
    "Some hints:\n",
    "\n",
    "* The `n_epochs` attribute determines how long the training should proceed.\n",
    "* The `save_dir` attribute identifies the location where the checkpoints and loss curve details are saved. If one wishes to resume training from a previous checkpoint, they could point resume_path attribute appropriately. For example, one could set `resume_path = './experiment/Fluo-N2DH-GOWT1-demo/checkpoint.pth'` to resume training from the last checkpoint.\n",
    "\n",
    "In the cell after this one, a `configs` dictionary is generated from the parameters specified here! "
   ]
  },
  {
   "cell_type": "code",
   "execution_count": 17,
   "id": "9b90d363",
   "metadata": {},
   "outputs": [],
   "source": [
    "n_epochs = 5\n",
    "save_dir = os.path.join('experiment', project_name+'-'+'demo')\n",
    "resume_path  = None"
   ]
  },
  {
   "cell_type": "code",
   "execution_count": 18,
   "id": "fcf06a73",
   "metadata": {},
   "outputs": [
    {
     "name": "stdout",
     "output_type": "stream",
     "text": [
      "`configs` dictionary successfully created with: \n",
      " -- n_epochs equal to 5, \n",
      " -- save_dir equal to experiment/Fluo-N2DH-GOWT1-demo, \n"
     ]
    }
   ],
   "source": [
    "configs = create_configs(n_epochs = n_epochs,\n",
    "                         resume_path = resume_path, \n",
    "                         save_dir = save_dir, \n",
    "                         )"
   ]
  },
  {
   "cell_type": "markdown",
   "id": "7c79395c",
   "metadata": {},
   "source": [
    "Save the properties of the model in a `json` file. This will be accessed later during inference."
   ]
  },
  {
   "cell_type": "code",
   "execution_count": 19,
   "id": "8c15c1e7",
   "metadata": {},
   "outputs": [
    {
     "name": "stdout",
     "output_type": "stream",
     "text": [
      "Train config properties of the `Fluo-N2DH-GOWT1` dataset is saved to `train_properties.json`\n"
     ]
    }
   ],
   "source": [
    "train_properties_dir = {}\n",
    "train_properties_dir['num_offset_channels']=num_offset_channels\n",
    "train_properties_dir['num_intensity_channels']=num_intensity_channels\n",
    "train_properties_dir['num_latent_channels'] =num_latent_channels\n",
    "train_properties_dir['num_output_channels'] =num_output_channels\n",
    "train_properties_dir['margin']= margin\n",
    "                             \n",
    "with open('train_properties.json', 'w') as outfile:\n",
    "    json.dump(train_properties_dir, outfile)\n",
    "    print(\"Train config properties of the `{}` dataset is saved to `train_properties.json`\".format(project_name))"
   ]
  },
  {
   "cell_type": "markdown",
   "id": "f21d9385",
   "metadata": {},
   "source": [
    "### Begin Training"
   ]
  },
  {
   "cell_type": "code",
   "execution_count": 20,
   "id": "109df540",
   "metadata": {},
   "outputs": [
    {
     "name": "stdout",
     "output_type": "stream",
     "text": [
      "`train` dataloader created! Accessing data from dicts/train/\n",
      "Number of tracklets in `train` directory is 27\n",
      "`val` dataloader created! Accessing data from dicts/val/\n",
      "Number of tracklets in `val` directory is 22\n"
     ]
    },
    {
     "name": "stderr",
     "output_type": "stream",
     "text": [
      "\r",
      "  0%|                                                    | 0/31 [00:00<?, ?it/s]"
     ]
    },
    {
     "name": "stdout",
     "output_type": "stream",
     "text": [
      "Created  loss function with: margin: 0.2\n",
      "*************************\n",
      "Created logger with keys:  ('train', 'val')\n",
      "Starting epoch 0\n",
      "learning rate: 0.0005\n"
     ]
    },
    {
     "name": "stderr",
     "output_type": "stream",
     "text": [
      "/home/manan/Projects/LineageTracer/LineageTracer/criterions/lineage_tracer_loss.py:29: UserWarning: This overload of addmm_ is deprecated:\n",
      "\taddmm_(Number beta, Number alpha, Tensor mat1, Tensor mat2)\n",
      "Consider using one of the following signatures instead:\n",
      "\taddmm_(Tensor mat1, Tensor mat2, *, Number beta, Number alpha) (Triggered internally at  /opt/conda/conda-bld/pytorch_1659484772347/work/torch/csrc/utils/python_arg_parser.cpp:1174.)\n",
      "  embeddings.t())  # stands for add matrix multiplication in place -2*dist + embeddings*embeddings_tranposed\n",
      "100%|███████████████████████████████████████████| 31/31 [00:11<00:00,  2.81it/s]\n",
      "100%|███████████████████████████████████████████| 21/21 [00:02<00:00,  8.07it/s]\n"
     ]
    },
    {
     "name": "stdout",
     "output_type": "stream",
     "text": [
      "===> train loss: 0.073\n",
      "===> val loss: 0.001\n"
     ]
    },
    {
     "name": "stderr",
     "output_type": "stream",
     "text": [
      "\r",
      "  0%|                                                    | 0/31 [00:00<?, ?it/s]"
     ]
    },
    {
     "name": "stdout",
     "output_type": "stream",
     "text": [
      "=> saving checkpoint\n",
      "Starting epoch 1\n",
      "learning rate: 0.0004977494364660346\n"
     ]
    },
    {
     "name": "stderr",
     "output_type": "stream",
     "text": [
      "100%|███████████████████████████████████████████| 31/31 [00:09<00:00,  3.36it/s]\n",
      "100%|███████████████████████████████████████████| 21/21 [00:02<00:00,  9.46it/s]\n"
     ]
    },
    {
     "name": "stdout",
     "output_type": "stream",
     "text": [
      "===> train loss: 0.015\n",
      "===> val loss: 0.000\n"
     ]
    },
    {
     "name": "stderr",
     "output_type": "stream",
     "text": [
      "\r",
      "  0%|                                                    | 0/31 [00:00<?, ?it/s]"
     ]
    },
    {
     "name": "stdout",
     "output_type": "stream",
     "text": [
      "=> saving checkpoint\n",
      "Starting epoch 2\n",
      "learning rate: 0.0004954977417064171\n"
     ]
    },
    {
     "name": "stderr",
     "output_type": "stream",
     "text": [
      "100%|███████████████████████████████████████████| 31/31 [00:09<00:00,  3.39it/s]\n",
      "100%|███████████████████████████████████████████| 21/21 [00:02<00:00,  8.98it/s]\n"
     ]
    },
    {
     "name": "stdout",
     "output_type": "stream",
     "text": [
      "===> train loss: 0.007\n",
      "===> val loss: 0.000\n"
     ]
    },
    {
     "name": "stderr",
     "output_type": "stream",
     "text": [
      "\r",
      "  0%|                                                    | 0/31 [00:00<?, ?it/s]"
     ]
    },
    {
     "name": "stdout",
     "output_type": "stream",
     "text": [
      "=> saving checkpoint\n",
      "Starting epoch 3\n",
      "learning rate: 0.0004932449094349202\n"
     ]
    },
    {
     "name": "stderr",
     "output_type": "stream",
     "text": [
      "100%|███████████████████████████████████████████| 31/31 [00:09<00:00,  3.22it/s]\n",
      "100%|███████████████████████████████████████████| 21/21 [00:02<00:00,  9.37it/s]\n"
     ]
    },
    {
     "name": "stdout",
     "output_type": "stream",
     "text": [
      "===> train loss: 0.004\n",
      "===> val loss: 0.000\n"
     ]
    },
    {
     "name": "stderr",
     "output_type": "stream",
     "text": [
      "\r",
      "  0%|                                                    | 0/31 [00:00<?, ?it/s]"
     ]
    },
    {
     "name": "stdout",
     "output_type": "stream",
     "text": [
      "=> saving checkpoint\n",
      "Starting epoch 4\n",
      "learning rate: 0.0004909909332982877\n"
     ]
    },
    {
     "name": "stderr",
     "output_type": "stream",
     "text": [
      "100%|███████████████████████████████████████████| 31/31 [00:09<00:00,  3.41it/s]\n",
      "100%|███████████████████████████████████████████| 21/21 [00:02<00:00,  9.43it/s]\n"
     ]
    },
    {
     "name": "stdout",
     "output_type": "stream",
     "text": [
      "===> train loss: 0.005\n",
      "===> val loss: 0.000\n",
      "=> saving checkpoint\n"
     ]
    },
    {
     "data": {
      "text/plain": [
       "<Figure size 640x480 with 0 Axes>"
      ]
     },
     "metadata": {},
     "output_type": "display_data"
    }
   ],
   "source": [
    "begin_training(train_dataset_dict, val_dataset_dict, model_dict, loss_dict, configs)"
   ]
  },
  {
   "cell_type": "code",
   "execution_count": null,
   "id": "235c1ef6",
   "metadata": {},
   "outputs": [],
   "source": []
  }
 ],
 "metadata": {
  "kernelspec": {
   "display_name": "Python 3 (ipykernel)",
   "language": "python",
   "name": "python3"
  },
  "language_info": {
   "codemirror_mode": {
    "name": "ipython",
    "version": 3
   },
   "file_extension": ".py",
   "mimetype": "text/x-python",
   "name": "python",
   "nbconvert_exporter": "python",
   "pygments_lexer": "ipython3",
   "version": "3.7.0"
  },
  "toc": {
   "base_numbering": 1,
   "nav_menu": {},
   "number_sections": true,
   "sideBar": false,
   "skip_h1_title": false,
   "title_cell": "Table of Contents",
   "title_sidebar": "Contents",
   "toc_cell": false,
   "toc_position": {},
   "toc_section_display": true,
   "toc_window_display": false
  }
 },
 "nbformat": 4,
 "nbformat_minor": 5
}
